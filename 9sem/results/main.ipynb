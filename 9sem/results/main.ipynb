{
  "cells": [
    {
      "cell_type": "code",
      "execution_count": 3,
      "metadata": {
        "id": "yRlhgEhhQLoU"
      },
      "outputs": [],
      "source": [
        "import scipy.io.wavfile as wav\n",
        "import matplotlib.pyplot as plt\n",
        "from scipy import signal\n",
        "from scipy.signal import savgol_filter, butter, filtfilt\n",
        "import numpy as np\n",
        "from math import factorial"
      ]
    },
    {
      "cell_type": "code",
      "execution_count": 4,
      "metadata": {
        "colab": {
          "base_uri": "https://localhost:8080/",
          "height": 34
        },
        "id": "8uuRQPWjKmEg",
        "outputId": "5909576d-4295-41d8-b61a-6e2662d8e80d"
      },
      "outputs": [
        {
          "data": {
            "text/plain": [
              "<Figure size 640x480 with 0 Axes>"
            ]
          },
          "metadata": {},
          "output_type": "display_data"
        }
      ],
      "source": [
        "def plot_spectrogram(fs, aud, name):\n",
        "    powerSpectrum, frequenciesFound, time, imageAxis = plt.specgram(aud, Fs=fs)\n",
        "    plt.ylabel('Frequency [Hz]')\n",
        "    plt.xlabel('Time [s]')\n",
        "    plt.savefig('spectrogram_' + name + '.png')\n",
        "    plt.clf()\n",
        "    return powerSpectrum, frequenciesFound, time\n",
        "\n",
        "def denoise(fs, aud, cutoff_freuency, passes=1):\n",
        "    z = signal.savgol_filter(aud, 100, 3)\n",
        "    b, a = signal.butter(3, cutoff_freuency / fs)\n",
        "    zi = signal.lfilter_zi(b, a)\n",
        "    z, _ = signal.lfilter(b, a, z, zi = zi * z[0])\n",
        "    return z\n",
        "\n",
        "\n",
        "def find_peaks(spec, freq, t, delta_t=0.1, delta_freq=50):\n",
        "    peaks = set()\n",
        "\n",
        "    t_increment = int(delta_t * len(t) / (t[-1] - t[0]))\n",
        "    freq_increment = int(delta_freq * len(freq) / (freq[-1] - freq[0]))\n",
        "\n",
        "    for i, freq_val in enumerate(freq):\n",
        "        for j, time_val in enumerate(t):\n",
        "            t_min = max(0, j - t_increment)\n",
        "            t_max = min(len(t), j + t_increment + 1)\n",
        "            freq_min = max(0, i - freq_increment)\n",
        "            freq_max = min(len(freq), i + freq_increment + 1)\n",
        "\n",
        "            is_peak = True\n",
        "            for a in range(freq_min, freq_max):\n",
        "                for b in range(t_min, t_max):\n",
        "                    if (a != i or b != j) and spec[i, j] < spec[a, b]:\n",
        "                        is_peak = False\n",
        "                        break\n",
        "                if not is_peak:\n",
        "                    break\n",
        "\n",
        "            if is_peak:\n",
        "                peaks.add(time_val)\n",
        "\n",
        "    return peaks\n",
        "def to_pcm(y):\n",
        "    return np.int16(y / np.max(np.abs(y)) * 32000)\n",
        "\n",
        "\n",
        "def main():\n",
        "    fs, aud = wav.read('Recording_1.wav')\n",
        "    aud = aud[:]\n",
        "    plot_spectrogram(fs, aud, 'sound')\n",
        "\n",
        "    denoised = denoise(fs, aud, 1000)\n",
        "    denoised2 = denoise(fs, denoised, 1000)   \n",
        "\n",
        "    spec, freq, time = plot_spectrogram(fs, denoised, 'denoised')\n",
        "    \n",
        "\n",
        "    wav.write('denoised.wav', fs, to_pcm(denoised))\n",
        "    wav.write('denoised2.wav', fs, to_pcm(denoised2))  \n",
        "\n",
        "    peaks = find_peaks(spec, freq, time)\n",
        "    with open ('results.txt', 'w') as f:\n",
        "        f.write(\"Number:\" + str(len(peaks)) + '\\n')\n",
        "        for peak in peaks:\n",
        "            f.write(str(peak) + '\\n')\n",
        "\n",
        "if __name__ == \"__main__\":\n",
        "   main()\n",
        "\n",
        "if __name__ == \"__main__\":\n",
        "   main()"
      ]
    }
  ],
  "metadata": {
    "colab": {
      "provenance": []
    },
    "kernelspec": {
      "display_name": "Python 3",
      "name": "python3"
    },
    "language_info": {
      "codemirror_mode": {
        "name": "ipython",
        "version": 3
      },
      "file_extension": ".py",
      "mimetype": "text/x-python",
      "name": "python",
      "nbconvert_exporter": "python",
      "pygments_lexer": "ipython3",
      "version": "3.9.7"
    }
  },
  "nbformat": 4,
  "nbformat_minor": 0
}
