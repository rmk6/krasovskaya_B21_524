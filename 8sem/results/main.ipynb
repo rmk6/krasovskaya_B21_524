{
 "cells": [
  {
   "cell_type": "code",
   "execution_count": 1,
   "metadata": {},
   "outputs": [],
   "source": [
    "from PIL import Image, ImageDraw, ImageFont\n",
    "from PIL.ImageOps import invert\n",
    "import matplotlib.pyplot as plt\n",
    "import numpy as np\n",
    "import math\n",
    "from math import sqrt\n",
    "import os\n",
    "# from numpy import mean\n",
    "# from math import pow, log, log2, floor\n"
   ]
  },
  {
   "cell_type": "code",
   "execution_count": 2,
   "metadata": {},
   "outputs": [],
   "source": [
    "def create_folder(dir, folder_name):\n",
    "\n",
    "    output_dir = os.path.join(dir, folder_name)\n",
    "\n",
    "    if not os.path.isdir(output_dir):\n",
    "        os.mkdir(output_dir)\n",
    "    return output_dir"
   ]
  },
  {
   "cell_type": "code",
   "execution_count": 3,
   "metadata": {},
   "outputs": [],
   "source": [
    "def haralic_kernel_f1_d45(input_array:np.ndarray, path:str, k):\n",
    "    \n",
    "    height, width = input_array.shape[:2]\n",
    "    height_exp, width_exp = height+2, width+2\n",
    "\n",
    "    harlik_matrix = np.zeros((257, 257), dtype=int)\n",
    "\n",
    "    #создание вспомогательной матрицы для полного обхода краев\n",
    "    expand_input_array = np.zeros((height_exp, width_exp), dtype=int)\n",
    "\n",
    "    for i in range (height_exp):\n",
    "        for j in range  (width_exp):\n",
    "            if i == 0 or i == height_exp-1 or j == 0 or j == width_exp-1:\n",
    "                expand_input_array[i][j] = -1\n",
    "            else:\n",
    "                expand_input_array[i][j] = input_array[i-1][j-1]\n",
    "\n",
    "    # обход\n",
    "    indent_h = 1\n",
    "    indent_w = 1\n",
    "\n",
    "    for i in range (indent_h, height_exp-indent_h):\n",
    "        for j in range (indent_w, width_exp-indent_w):\n",
    "            harlik_matrix[expand_input_array[i][j]+1][expand_input_array[i-1][j-1]+1] +=1\n",
    "            harlik_matrix[expand_input_array[i][j]+1][expand_input_array[i-1][j+1]+1] +=1\n",
    "            harlik_matrix[expand_input_array[i][j]+1][expand_input_array[i+1][j-1]+1] +=1\n",
    "            harlik_matrix[expand_input_array[i][j]+1][expand_input_array[i+1][j+1]+1] +=1\n",
    "\n",
    "    # нормировка для отображения картинкой м отсечение вспомогательных краев\n",
    "    harlik_matrix1 = harlik_matrix[1:257,\n",
    "                                   1:257]\n",
    "    maxim = np.max(harlik_matrix1)\n",
    "    corr_coeff = maxim /255\n",
    "    harlik_matrix2 = harlik_matrix1 // corr_coeff\n",
    "    \n",
    "    \n",
    "    new_image = Image.fromarray(harlik_matrix2.astype(np.uint8))\n",
    "    # path = create_folder(os.getcwd(),\"output\")\n",
    "    new_image.save(os.path.join(path, f'haralik{k}.png'))\n",
    "    \n",
    "    \n",
    "    aaaaaa = np.array(new_image)\n",
    "    return aaaaaa"
   ]
  },
  {
   "cell_type": "code",
   "execution_count": 4,
   "metadata": {},
   "outputs": [],
   "source": [
    "def calculate_corr(haralik: np.array):\n",
    "    P_j = haralik.sum(axis=0)\n",
    "    P_i = haralik.sum(axis=1)\n",
    "\n",
    "    nu_j = np.array([i*item for i, item in enumerate(P_j)]).sum()\n",
    "    nu_i = np.array([i*item for i, item in enumerate(P_i)]).sum()\n",
    "\n",
    "    sigma_i = np.array([(j - nu_i)**2 * P_i[j] for j in range(haralik.shape[1])]).sum()\n",
    "    sigma_j = np.array([(i - nu_j)**2 * P_j[i] for i in range(haralik.shape[0])]).sum()\n",
    "\n",
    "    corr = 0\n",
    "\n",
    "    for i in range(haralik.shape[0]):\n",
    "        for j in range(haralik.shape[1]):\n",
    "            corr += i*j*haralik[i,j]\n",
    "\n",
    "    return (corr - nu_i*nu_j)/(np.sqrt(sigma_i)*np.sqrt(sigma_j))\n",
    "    "
   ]
  },
  {
   "cell_type": "code",
   "execution_count": 5,
   "metadata": {},
   "outputs": [],
   "source": [
    "def monochrome(input_array: np.array):\n",
    "    height, width = input_array.shape[:2]\n",
    "    output_array = np.zeros((height, width), dtype=input_array.dtype)\n",
    "\n",
    "    for y in range(height):\n",
    "        for x in range(width):\n",
    "            output_array[y][x] = np.mean(input_array[y][x])\n",
    "\n",
    "    return output_array\n",
    "  "
   ]
  },
  {
   "cell_type": "code",
   "execution_count": 6,
   "metadata": {},
   "outputs": [],
   "source": [
    "def contrast(img:np.array,L, path:str, k):\n",
    "    flat_img = img.flatten()\n",
    "    mn = round(np.mean(flat_img))\n",
    "\n",
    "    positiveRange = max(2, max(flat_img) - mn)\n",
    "    negativeRange = max(2, mn - min(flat_img))\n",
    "    \n",
    "    positiveAlpha = (2 ** (L-1))/ np.log(positiveRange)\n",
    "    negativeAlpha = (2 ** (L-1))/ np.log(negativeRange)\n",
    "\n",
    "    res_img = np.zeros_like(img)\n",
    "\n",
    "    for i in range(img.shape[0]):\n",
    "        for j in range(img.shape[1]):\n",
    "            f = img[i, j] - mn\n",
    "            if f >= 1:\n",
    "                res_img[i, j] = mn + positiveAlpha * np.log(f)\n",
    "            elif f <= -1:\n",
    "                res_img[i, j] = mn - negativeAlpha * np.log(abs(f))\n",
    "            else:\n",
    "                res_img[i, j] = mn\n",
    "\n",
    "    new_image = Image.fromarray(res_img.astype(np.uint8))\n",
    "    new_image.save(os.path.join(path, f'contrast{k}.png'))\n",
    "    \n",
    "    return res_img"
   ]
  },
  {
   "cell_type": "code",
   "execution_count": 7,
   "metadata": {},
   "outputs": [
    {
     "name": "stdout",
     "output_type": "stream",
     "text": [
      "-0.00022530070241831324\n",
      "-2.9541853032124908e-05\n",
      "-2.2975689755081948e-05\n",
      "-0.00014246976203912938\n"
     ]
    },
    {
     "name": "stderr",
     "output_type": "stream",
     "text": [
      "C:\\Users\\Milana\\AppData\\Local\\Temp\\ipykernel_12424\\3717664204.py:17: RuntimeWarning: invalid value encountered in sqrt\n",
      "  return (corr - nu_i*nu_j)/(np.sqrt(sigma_i)*np.sqrt(sigma_j))\n"
     ]
    },
    {
     "name": "stdout",
     "output_type": "stream",
     "text": [
      "nan\n"
     ]
    },
    {
     "name": "stderr",
     "output_type": "stream",
     "text": [
      "C:\\Users\\Milana\\AppData\\Local\\Temp\\ipykernel_12424\\3717664204.py:8: RuntimeWarning: overflow encountered in scalar multiply\n",
      "  sigma_i = np.array([(j - nu_i)**2 * P_i[j] for j in range(haralik.shape[1])]).sum()\n",
      "C:\\Users\\Milana\\AppData\\Local\\Temp\\ipykernel_12424\\3717664204.py:9: RuntimeWarning: overflow encountered in scalar multiply\n",
      "  sigma_j = np.array([(i - nu_j)**2 * P_j[i] for i in range(haralik.shape[0])]).sum()\n",
      "C:\\Users\\Milana\\AppData\\Local\\Temp\\ipykernel_12424\\3717664204.py:15: RuntimeWarning: overflow encountered in scalar add\n",
      "  corr += i*j*haralik[i,j]\n"
     ]
    },
    {
     "name": "stdout",
     "output_type": "stream",
     "text": [
      "nan\n",
      "-0.0003336519027854479\n",
      "-0.15247401605160624\n",
      "-0.000512520877090107\n"
     ]
    }
   ],
   "source": [
    "def main():\n",
    " \n",
    "    DIR_input = create_folder(os.getcwd(),\"input\")\n",
    "    DIR_output = create_folder(os.getcwd(),\"output\")\n",
    "    DIR_haralik = create_folder(DIR_output, \"haralik\")\n",
    "    DIR_CONTRAST = create_folder(DIR_output, \"contrast\")\n",
    "    DIR_CONTRAST_haralik  = create_folder(DIR_output, \"contrast_haralik\")\n",
    "    for i in range(1, 10):\n",
    "        l = 4\n",
    "        input_image = Image.open(os.path.join(DIR_input, f'test{i}.bmp'))\n",
    "        input_array = np.array(input_image)\n",
    "\n",
    "        new_array = monochrome(input_array)\n",
    "        # print(new_array.shape[:])\n",
    "        haralic = haralic_kernel_f1_d45(new_array, DIR_haralik, i)\n",
    "        print(calculate_corr(haralic))\n",
    "        contrast(new_array,l,  DIR_CONTRAST, i)\n",
    "\n",
    "\n",
    "        haralic_kernel_f1_d45(contrast(new_array,l, DIR_CONTRAST, i),  DIR_CONTRAST_haralik, i)\n",
    "        contrast( haralic_kernel_f1_d45 (contrast(new_array, l,DIR_CONTRAST, i),  DIR_CONTRAST_haralik, i),l,  DIR_CONTRAST_haralik, i)\n",
    "\n",
    "\n",
    "\n",
    "if __name__ == '__main__':\n",
    "    main()"
   ]
  }
 ],
 "metadata": {
  "kernelspec": {
   "display_name": "Python 3",
   "language": "python",
   "name": "python3"
  },
  "language_info": {
   "codemirror_mode": {
    "name": "ipython",
    "version": 3
   },
   "file_extension": ".py",
   "mimetype": "text/x-python",
   "name": "python",
   "nbconvert_exporter": "python",
   "pygments_lexer": "ipython3",
   "version": "3.9.7"
  }
 },
 "nbformat": 4,
 "nbformat_minor": 2
}
