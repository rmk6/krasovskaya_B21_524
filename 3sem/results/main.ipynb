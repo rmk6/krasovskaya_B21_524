{
 "cells": [
  {
   "cell_type": "code",
   "execution_count": 7,
   "metadata": {},
   "outputs": [],
   "source": [
    "from PIL import Image, ImageDraw\n",
    "import numpy as np\n",
    "import random\n",
    "import math"
   ]
  },
  {
   "cell_type": "code",
   "execution_count": 8,
   "metadata": {},
   "outputs": [],
   "source": [
    "def monochrome(input_array):\n",
    "\n",
    "  height, width = input_array.shape[:2]\n",
    "  output_array = np.zeros((height, width), dtype=input_array.dtype)\n",
    "\n",
    "  for y in range(height):\n",
    "      for x in range(width):\n",
    "          output_array[y][x] = np.mean(input_array[y][x])\n",
    "\n",
    "  #print(output_array)\n",
    "\n",
    "  new_image = Image.fromarray(output_array)\n",
    "  new_image.save('new_image_monochrome.png')"
   ]
  },
  {
   "cell_type": "code",
   "execution_count": 9,
   "metadata": {},
   "outputs": [],
   "source": [
    "def salt_and_pepper(input_array, amount):\n",
    "  \n",
    "  height, width = input_array.shape[:2]\n",
    "  output_array = input_array.copy()\n",
    "\n",
    "  # Считаем количество точек для \"соли\" и \"перца\"\n",
    "  num_salt = np.ceil(amount * height * width)\n",
    "  num_pepper  = np.ceil(amount * height * width)\n",
    "\n",
    "  coords_salt = [np.random.randint(0, i - 1, int(num_salt)) for i in [height, width]]\n",
    "  output_array[coords_salt[0], coords_salt[1]] = 0\n",
    "\n",
    "\n",
    "  coords_pepper = [np.random.randint(0, i - 1, int(num_pepper)) for i in input_array.shape]\n",
    "  output_array[coords_pepper[0], coords_pepper[1]] = 255\n",
    "\n",
    "  new_image = Image.fromarray(output_array)\n",
    "  new_image.save('new_image_salt_and_pepper.png')"
   ]
  },
  {
   "cell_type": "code",
   "execution_count": 10,
   "metadata": {},
   "outputs": [],
   "source": [
    "def sum_kernel(input_array):\n",
    "  height, width = input_array.shape[:2]\n",
    "  summ = 0\n",
    "  for i in range (height):\n",
    "    for j in range (width):\n",
    "      summ+=int(input_array[i][j])\n",
    "\n",
    "    return summ"
   ]
  },
  {
   "cell_type": "code",
   "execution_count": 11,
   "metadata": {},
   "outputs": [],
   "source": [
    "def range_filter(input_array, kernel_1):\n",
    "  height, width = input_array.shape[:2]\n",
    "  output_array = input_array.copy()\n",
    "  k = 2\n",
    "\n",
    "  kernel_height, kernel_width = kernel_1.shape\n",
    "  indent_h, indent_w = kernel_height//2, kernel_width//2\n",
    "  \n",
    "  for i in range (indent_h, height-indent_h):\n",
    "    for j in range (indent_w, width-indent_h):\n",
    "      temp_kernel = input_array[i-indent_h : i+indent_h+1, \n",
    "                                j-indent_h : j+indent_h+1]\n",
    "      \n",
    "      res = temp_kernel * kernel_1\n",
    "      summ = sum_kernel(res)/255\n",
    "      if summ >= k:\n",
    "        output_array[i][j] = 255\n",
    "      else:\n",
    "        output_array[i][j] = 0\n",
    "\n",
    "  new_image = Image.fromarray(output_array)\n",
    "  # new_image.save('new_image_salt_and_pepper_FILTRED_kernel_corners.png')\n",
    "  return  output_array"
   ]
  },
  {
   "cell_type": "markdown",
   "metadata": {},
   "source": []
  },
  {
   "cell_type": "code",
   "execution_count": 12,
   "metadata": {},
   "outputs": [],
   "source": [
    "def main():\n",
    "\n",
    "  amount = 0.01\n",
    "\n",
    "  input_image = Image.open('new_image_one_threshold_binarization_198_153.png')\n",
    "  input_array = np.array(input_image)\n",
    "  \n",
    "  kernel = np.array([[1, 1, 1],\n",
    "                     [1, 1, 1],\n",
    "                     [1, 1, 1]], dtype=np.uint8)  # обычное\n",
    "  \n",
    "  kernel_cross = np.array([[1, 2, 1],\n",
    "                           [2, 4, 2],\n",
    "                           [1, 2, 1]], dtype=np.uint8)  # крест\n",
    "  \n",
    "  kernel_corners = np.array([[1, 0, 1],\n",
    "                             [0, 0, 0],\n",
    "                             [1, 0, 1]], dtype=np.uint8)  # углы\n",
    "\n",
    "  salt_and_pepper(input_array, amount)\n",
    "  new_image = Image.fromarray(range_filter(input_array, kernel_cross))\n",
    "\n",
    "  new_image.save('result.png')\n",
    "\n",
    "\n",
    "if __name__ == '__main__':\n",
    "    main()"
   ]
  }
 ],
 "metadata": {
  "kernelspec": {
   "display_name": "Python 3",
   "language": "python",
   "name": "python3"
  },
  "language_info": {
   "codemirror_mode": {
    "name": "ipython",
    "version": 3
   },
   "file_extension": ".py",
   "mimetype": "text/x-python",
   "name": "python",
   "nbconvert_exporter": "python",
   "pygments_lexer": "ipython3",
   "version": "3.9.7"
  }
 },
 "nbformat": 4,
 "nbformat_minor": 2
}
