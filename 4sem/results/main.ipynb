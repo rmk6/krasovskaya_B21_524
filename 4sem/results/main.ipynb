{
  "cells": [
    {
      "cell_type": "markdown",
      "metadata": {
        "id": "52UUkx4yBL6a"
      },
      "source": [
        "**Лабораторная работа №4. Выделение контуров на изображении**"
      ]
    },
    {
      "cell_type": "code",
      "execution_count": 1,
      "metadata": {
        "id": "prFlqWoyBJPG"
      },
      "outputs": [],
      "source": [
        "from PIL import Image, ImageDraw\n",
        "import numpy as np\n",
        "import math\n",
        "import random\n",
        "from scipy import signal\n",
        "import os"
      ]
    },
    {
      "cell_type": "code",
      "execution_count": 2,
      "metadata": {
        "id": "z1T0ZuOCBWaS"
      },
      "outputs": [],
      "source": [
        "def monochrome(input_array):\n",
        "  height, width = input_array.shape[:2]\n",
        "  output_array = np.zeros((height, width), dtype=input_array.dtype)\n",
        "\n",
        "  for y in range(height):\n",
        "      for x in range(width):\n",
        "          output_array[y][x] = np.mean(input_array[y][x])\n",
        "\n",
        "  new_image = Image.fromarray(output_array)\n",
        "  new_image.save('new_image_monochrome.png')\n"
      ]
    },
    {
      "cell_type": "code",
      "execution_count": 3,
      "metadata": {
        "id": "fHFBWJbQF0ub"
      },
      "outputs": [],
      "source": [
        "def get_pixel(pixel_grad, T) :\n",
        "  if pixel_grad > T :\n",
        "    return 255\n",
        "  else :\n",
        "    return 0\n",
        "\n",
        "def sharr_operator(input_array, T):\n",
        "  height, width = input_array.shape[:2]\n",
        "  input_array = np.array(input_array)\n",
        "\n",
        "  \n",
        "  Gx = np.array([[3,  0, -3 ], \n",
        "                 [10, 0, -10],\n",
        "                 [3,  0, -3 ]])\n",
        "  \n",
        "  Gy = np.array ([[ 3,  10,  3], \n",
        "                  [ 0,  0,   0],\n",
        "                  [-3, -10, -3]])\n",
        "\n",
        "  # Рассчет Gx и Gy\n",
        "  gradient_x = signal.convolve2d(input_array, Gx, boundary='symm', mode='same')\n",
        "  gradient_y = signal.convolve2d(input_array, Gy, boundary='symm', mode='same')\n",
        "\n",
        "  # Поиск градиента\n",
        "  gradient = np.abs(gradient_x) + np.abs(gradient_y)\n",
        "\n",
        "  # Нормализация градиента Gx\n",
        "  normalized_gradient_x = (gradient_x / np.max(gradient_x)) * 255\n",
        "  normalized_gradient_x = normalized_gradient_x.astype(np.uint8)\n",
        "\n",
        "  new_image = Image.fromarray(normalized_gradient_x)\n",
        "  new_image.save('new_image_normalized_gradient_x.png')\n",
        "\n",
        "  # Нормализация градиента Gy\n",
        "  normalized_gradient_y = (gradient_y / np.max(gradient_y)) * 255\n",
        "  normalized_gradient_y = normalized_gradient_y.astype(np.uint8)\n",
        "\n",
        "  new_image = Image.fromarray(normalized_gradient_y)\n",
        "  new_image.save('new_image_normalized_gradient_y.png')\n",
        "\n",
        "  # Нормализация градиента G\n",
        "  normalized_gradient = (gradient / np.max(gradient)) * 255\n",
        "  normalized_gradient = normalized_gradient.astype(np.uint8)\n",
        "\n",
        "  new_image = Image.fromarray(normalized_gradient)\n",
        "  new_image.save('new_image_normalized_gradien.png')\n",
        "\n",
        "  # Применение оператора Шарра\n",
        "  output_array = np.zeros_like(input_array)\n",
        "  normalized_gradient = (gradient / np.max(gradient)) * 255\n",
        "  for x in range(height) :\n",
        "    for y in range(width) :\n",
        "      output_array[x, y] = get_pixel(normalized_gradient[x, y], T)\n",
        "\n",
        "  output_image = Image.fromarray(output_array.astype(np.uint8), 'L')\n",
        "  output_image.save('new_image_pruitt_operator.png')"
      ]
    },
    {
      "cell_type": "code",
      "execution_count": 8,
      "metadata": {
        "id": "_XwrqCurF07G"
      },
      "outputs": [],
      "source": [
        "def main():\n",
        "  input_image = Image.open('Illustration1.png')\n",
        "  input_array = np.array(input_image)\n",
        "\n",
        "  monochrome(input_array)\n",
        "\n",
        "  input_image = Image.open('new_image_monochrome.png')\n",
        "  input_array = np.array(input_image)\n",
        "\n",
        "  T = 35\n",
        "  sharr_operator(input_array, T)\n",
        "\n",
        "if __name__ == '__main__':\n",
        "    main()"
      ]
    }
  ],
  "metadata": {
    "colab": {
      "provenance": []
    },
    "kernelspec": {
      "display_name": "Python 3",
      "name": "python3"
    },
    "language_info": {
      "codemirror_mode": {
        "name": "ipython",
        "version": 3
      },
      "file_extension": ".py",
      "mimetype": "text/x-python",
      "name": "python",
      "nbconvert_exporter": "python",
      "pygments_lexer": "ipython3",
      "version": "3.9.7"
    }
  },
  "nbformat": 4,
  "nbformat_minor": 0
}
